{
 "cells": [
  {
   "cell_type": "markdown",
   "id": "da1f733e",
   "metadata": {},
   "source": [
    "## Steps to get started\n",
    "### 1) Install GraphRAG\n",
    "```bash\n",
    "pip install graphrag\n",
    "```\n",
    "\n",
    "### 2) Create Folders\n",
    "In the root folder \"GraphRAG\" create a folder \"ragtest\" and one inside that \"input\"\n",
    "```\n",
    "GraphRAG/\n",
    "├── ragtest/\n",
    "   ├── input\n",
    "```\n",
    "\n",
    "### 3) Download data (A Christmas Carol)\n",
    "On the command line run this\n",
    "```bash\n",
    "curl https://www.gutenberg.org/cache/epub/24022/pg24022.txt -o ./ragtest/input/book.txt\n",
    "```\n",
    "\n",
    "### 4) Set up your workspace\n",
    "On the command line run this\n",
    "```bash\n",
    "graphrag init --root ./ragtest\n",
    "```\n",
    "\n",
    "### 5) Setup your environment variables\n",
    "I'll give these to you but put them in the .env file\n",
    "\n",
    "### 6) Run the indexer\n",
    "On the command line run this\n",
    "``` bash\n",
    "graphrag index --root ./ragtest"
   ]
  },
  {
   "cell_type": "markdown",
   "id": "b37b49f5",
   "metadata": {},
   "source": [
    "## When RAG isn't enough\n",
    "- complex multi-step reasoning\n",
    "- content in the middle is underweighted in importance\n",
    "- answering meta-questions about the data\n"
   ]
  },
  {
   "cell_type": "code",
   "execution_count": 7,
   "id": "92e1ac19",
   "metadata": {},
   "outputs": [
    {
     "name": "stdout",
     "output_type": "stream",
     "text": [
      "\n",
      "\n",
      "\n",
      "SUCCESS: Global Search Response:\n",
      "# Top Themes in 'A Christmas Carol'\n",
      "\n",
      "Charles Dickens' 'A Christmas Carol' is rich with themes that resonate deeply with readers. The narrative explores various aspects of human experience, morality, and the spirit of the season. Below are the key themes identified in the story:\n",
      "\n",
      "## Redemption and Transformation\n",
      "\n",
      "A central theme in 'A Christmas Carol' is redemption, particularly illustrated through the character of Ebenezer Scrooge. His transformation from a miserly individual to a compassionate benefactor underscores the possibility of change and moral awakening. Scrooge's encounters with Jacob Marley and the three spirits compel him to reflect on his past, embrace generosity, and learn valuable lessons about kindness and empathy [Data: Reports (0, 1, 19, 9, 3, 18, 23, 12)].\n",
      "\n",
      "## The Spirit of Christmas\n",
      "\n",
      "The significance of the Christmas spirit is another recurring theme, representing joy, generosity, and community. Scrooge's initial rejection of this spirit contrasts sharply with the warmth exhibited by characters like Fred and the Cratchit family. This juxtaposition emphasizes that true happiness comes from caring for others and embracing the festive spirit [Data: Reports (0, 8, 32, 3, 9, 18, 22)].\n",
      "\n",
      "## Family and Community\n",
      "\n",
      "Family and community connections are vital themes throughout the narrative. The Cratchit family's struggles and their Christmas celebrations highlight the importance of human connection and support during difficult times. Their love and resilience amidst financial hardship serve as a reminder of the strength found in togetherness [Data: Reports (2, 21, 22, 32, 9, 19, 8)].\n",
      "\n",
      "## Consequences of Actions\n",
      "\n",
      "The consequences of one's actions are symbolized by the chains carried by the Ghost of Jacob Marley, representing the burdens of greed and past misdeeds. This theme reinforces the moral undertones of accountability and the repercussions of one's choices in life. Scrooge's encounters with the spirits reveal the impact of his past, present, and potential future, underscoring the narrative's message about the significance of empathy and moral choices [Data: Reports (10, 3, 18, 12, 9, 23)].\n",
      "\n",
      "## Reflection and Change\n",
      "\n",
      "Reflection and personal growth are emphasized through Scrooge's journey as he revisits his past. The importance of understanding one's history and the lessons learned from it is a significant aspect of the narrative, leading to personal transformation. The timing of Christmas Eve as a pivotal moment for reflection enhances the story's impact, encouraging individuals to reconsider their lives and actions [Data: Reports (0, 1, 10)].\n",
      "\n",
      "## Critique of Wealth and Poverty\n",
      "\n",
      "The critique of societal attitudes towards wealth and poverty is evident throughout the story. Dickens uses Scrooge's initial indifference to the plight of the poor to highlight the moral obligation to care for others, advocating for empathy and charitable giving. This theme serves as a call to action for readers to reflect on their own attitudes towards wealth and the responsibilities that come with it [Data: Reports (9, 3, 7, 21, 18)].\n",
      "\n",
      "## Conclusion\n",
      "\n",
      "In summary, 'A Christmas Carol' presents a tapestry of themes that explore redemption, the spirit of Christmas, family and community, the consequences of actions, reflection and change, and a critique of societal attitudes towards wealth and poverty. These themes not only enrich the narrative but also offer timeless lessons that continue to resonate with readers today. The story serves as a powerful reminder of the importance of compassion, generosity, and the potential for transformation in every individual.\n"
     ]
    }
   ],
   "source": [
    "!graphrag query --root ./ragtest2 --method global --query \"What are the top themes in this story?\""
   ]
  },
  {
   "cell_type": "code",
   "execution_count": 6,
   "id": "5da2df61",
   "metadata": {},
   "outputs": [
    {
     "name": "stdout",
     "output_type": "stream",
     "text": [
      "\n",
      "\n",
      "\n",
      "SUCCESS: Global Search Response:\n",
      "### Top Themes in the Story\n",
      "\n",
      "The story explores several profound themes, with redemption, compassion, and transformation standing out as central elements. These themes are intricately woven into the narrative through the experiences of Ebenezer Scrooge and his interactions with other characters, as well as the supernatural interventions that guide his journey. Below is a detailed analysis of the key themes:\n",
      "\n",
      "---\n",
      "\n",
      "#### **1. Redemption and Transformation**\n",
      "The theme of redemption is the cornerstone of the story, illustrated through Ebenezer Scrooge's dramatic transformation from a miserly, isolated individual to a generous and compassionate man. This change is catalyzed by supernatural encounters with Jacob Marley and the Spirits of Christmas Past, Present, and Yet to Come. These interventions compel Scrooge to reflect on his life, confront his past mistakes, and envision the consequences of his current behavior. His journey underscores the power of self-reflection and the possibility of personal growth, even for those who seem irredeemable [Data: Reports (18, 26, 44, 2, 19, 23, 38, 8, 51, 53, 21, 33, 4, 5, 40, 27, 48)].\n",
      "\n",
      "---\n",
      "\n",
      "#### **2. Compassion and Generosity**\n",
      "Generosity and compassion emerge as vital themes, highlighted by Scrooge's eventual acts of kindness, such as his gift of the Prize Turkey to the Cratchit family and his newfound commitment to social responsibility. These actions sharply contrast with his initial indifference to others' struggles. The Cratchit family, particularly Tiny Tim, serves as a symbol of resilience and warmth, inspiring Scrooge to embrace charitable actions and foster human connection. The story emphasizes the moral obligation to support those in need and the transformative power of goodwill [Data: Reports (18, 25, 26, 2, 19, 38, 41, 21, 33, 53, 8, 48)].\n",
      "\n",
      "---\n",
      "\n",
      "#### **3. Familial Love and Unity**\n",
      "The importance of familial bonds and unity is a recurring theme, exemplified by the Cratchit family's resilience and togetherness despite financial hardships. Their celebration of Christmas Day highlights the strength of shared moments and the enduring power of love in overcoming adversity. Scrooge's relationship with his nephew Fred and the influence of his sister Fan further underscore the emotional impact of family on personal growth and reconciliation [Data: Reports (5, 34, 32, 2, 30, 38, 21, 42, 33, 35)].\n",
      "\n",
      "---\n",
      "\n",
      "#### **4. Consequences of Greed and Selfishness**\n",
      "The story critiques greed and selfishness through characters like Scrooge and Jacob Marley, whose lives are shaped by their pursuit of wealth at the expense of human connection. Marley's chain and the Chained Phantoms symbolize the moral burden of neglecting compassion and generosity. Scrooge's neglected grave serves as a cautionary symbol, illustrating the impact of greed on one's legacy and relationships [Data: Reports (18, 26, 12, 52, 27, 4)].\n",
      "\n",
      "---\n",
      "\n",
      "#### **5. Societal Inequality and Responsibility**\n",
      "The narrative addresses societal issues such as poverty and ignorance, urging readers to recognize their responsibility toward others. The allegorical figures of Ignorance and Want, introduced by the Spirit of Christmas Present, symbolize societal neglect and inequality. Scrooge's observations of poverty, such as the conditions in the Obscure Part of the Town, challenge him—and the audience—to confront these inequities and act with empathy and social responsibility [Data: Reports (40, 3, 27, 2, 23, 19, 33, 21, 8)].\n",
      "\n",
      "---\n",
      "\n",
      "#### **6. Reflection and Self-Awareness**\n",
      "Reflection and self-awareness are central to Scrooge's transformation. His interactions with the Spirits, particularly the Ghost of Christmas Past, force him to confront his childhood memories, past relationships, and the consequences of his current behavior. These reflections help Scrooge understand the origins of his attitudes and inspire him to change, underscoring the importance of understanding one's history to facilitate personal growth [Data: Reports (18, 29, 26, 48)].\n",
      "\n",
      "---\n",
      "\n",
      "#### **7. The Spirit of Christmas**\n",
      "The enduring spirit of Christmas serves as a backdrop for the narrative, symbolizing joy, togetherness, and renewal. Festive gatherings, charitable efforts, and the Cratchit family's traditions reinforce the values of kindness, unity, and communal joy. Christmas acts as a catalyst for Scrooge's transformation, emphasizing the holiday's role in fostering reflection and generosity [Data: Reports (21, 33, 35, 8, 4, 3, 32)].\n",
      "\n",
      "---\n",
      "\n",
      "### Conclusion\n",
      "\n",
      "The story masterfully intertwines these themes to deliver a powerful message about personal growth, the importance of human connection, and the moral responsibility to support others. Through Scrooge's journey, readers are reminded of the transformative power of compassion, the enduring significance of family and community, and the need to confront societal inequities. These themes remain timeless, resonating with audiences across generations.\n"
     ]
    }
   ],
   "source": [
    "!graphrag query --root ./ragtest --method global --query \"What are the top themes in this story?\""
   ]
  },
  {
   "cell_type": "code",
   "execution_count": 8,
   "id": "42b2dec8",
   "metadata": {},
   "outputs": [
    {
     "name": "stdout",
     "output_type": "stream",
     "text": [
      "\n",
      "\n",
      "\n",
      "INFO: Vector Store Args: {\n",
      "    \"default_vector_store\": {\n",
      "        \"type\": \"lancedb\",\n",
      "        \"db_uri\": \"C:\\\\Users\\\\mitownsend\\\\Development\\\\GraphRAG\\\\ragtest2\\\\output\\\\lancedb\",\n",
      "        \"url\": null,\n",
      "        \"audience\": null,\n",
      "        \"container_name\": \"==== REDACTED ====\",\n",
      "        \"database_name\": null,\n",
      "        \"overwrite\": true\n",
      "    }\n",
      "}\n",
      "\n",
      "SUCCESS: Basic Search Response:\n",
      "# Top Themes in the Story\n",
      "\n",
      "The narrative presents several prominent themes that resonate throughout the text, reflecting on human nature, morality, and the spirit of Christmas. Here are the key themes identified:\n",
      "\n",
      "## Redemption and Transformation\n",
      "\n",
      "One of the most significant themes is the possibility of redemption and personal transformation. The character of Scrooge embodies this theme as he undergoes a profound change after being visited by the spirits. Initially depicted as a miserly and cold-hearted individual, Scrooge's encounters with the Ghosts of Christmas Past, Present, and Yet to Come lead him to recognize the impact of his actions on others. His final plea to change his ways illustrates the theme that it is never too late to alter one's path and embrace kindness and generosity [Data: Sources (35, 8, 16, 32, 24, +more)].\n",
      "\n",
      "## The Importance of Compassion and Community\n",
      "\n",
      "The story emphasizes the importance of compassion and community, particularly during the Christmas season. Scrooge's transformation highlights how acts of kindness and generosity can foster a sense of belonging and joy. The Cratchit family, despite their struggles, exemplifies warmth and love, showcasing the value of familial bonds and support. Scrooge's eventual embrace of these values signifies a shift from isolation to connection with others [Data: Sources (22, 31, 23, 28, 35, +more)].\n",
      "\n",
      "## Social Critique and Inequality\n",
      "\n",
      "Another critical theme is the critique of social inequality and the consequences of neglecting the less fortunate. The story presents stark contrasts between the wealthy and the impoverished, particularly through the depiction of characters like Tiny Tim and the Cratchit family. The Ghost of Christmas Present reveals the plight of the poor, urging Scrooge to recognize his responsibility towards society. This theme serves as a call to action for readers to reflect on their roles in addressing social injustices [Data: Sources (23, 28, 31, 22, 35, +more)].\n",
      "\n",
      "## The Spirit of Christmas\n",
      "\n",
      "The overarching theme of the spirit of Christmas encapsulates the joy, generosity, and goodwill associated with the holiday. The narrative illustrates how Christmas serves as a catalyst for change, encouraging individuals to reflect on their lives and relationships. Scrooge's journey ultimately leads him to embrace the true essence of Christmas, which is about giving, love, and community rather than material wealth [Data: Sources (24, 22, 35, 8, 32, +more)].\n",
      "\n",
      "## Conclusion\n",
      "\n",
      "In summary, the story weaves together themes of redemption, compassion, social critique, and the spirit of Christmas, creating a rich tapestry that encourages readers to reflect on their values and actions. Scrooge's transformation serves as a powerful reminder of the potential for change and the importance of human connection, particularly during the festive season.\n"
     ]
    }
   ],
   "source": [
    "!graphrag query --root ./ragtest2 --method basic --query \"What are the top themes in this story?\""
   ]
  }
 ],
 "metadata": {
  "kernelspec": {
   "display_name": "Python 3",
   "language": "python",
   "name": "python3"
  },
  "language_info": {
   "codemirror_mode": {
    "name": "ipython",
    "version": 3
   },
   "file_extension": ".py",
   "mimetype": "text/x-python",
   "name": "python",
   "nbconvert_exporter": "python",
   "pygments_lexer": "ipython3",
   "version": "3.12.10"
  }
 },
 "nbformat": 4,
 "nbformat_minor": 5
}
