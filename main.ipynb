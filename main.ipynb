{
 "cells": [
  {
   "cell_type": "markdown",
   "id": "da1f733e",
   "metadata": {},
   "source": [
    "## Steps to get started\n",
    "### 1) Install GraphRAG\n",
    "```bash\n",
    "pip install graphrag\n",
    "```\n",
    "\n",
    "### 2) Create Folders\n",
    "In the root folder \"GraphRAG\" create a folder \"rag\" and one inside that \"input\"\n",
    "```\n",
    "GraphRAG/\n",
    "├── rag/\n",
    "   ├── input\n",
    "```\n",
    "\n",
    "### 3) Download data (A Christmas Carol)\n",
    "On the command line run this\n",
    "```bash\n",
    "curl https://www.gutenberg.org/cache/epub/24022/pg24022.txt -o ./rag/input/book.txt\n",
    "```\n",
    "\n",
    "### 4) Set up your workspace\n",
    "On the command line run this\n",
    "```bash\n",
    "graphrag init --root ./rag\n",
    "```\n",
    "\n",
    "### 5) Setup your environment variables\n",
    "I'll give this to you but put them in the .env file\n",
    "\n",
    "### 6) Run the indexer\n",
    "On the command line run this\n",
    "``` bash\n",
    "graphrag index --root ./rag"
   ]
  },
  {
   "cell_type": "markdown",
   "id": "b37b49f5",
   "metadata": {},
   "source": [
    "## When RAG isn't enough\n",
    "- complex multi-step reasoning\n",
    "- content in the middle is underweighted in importance\n",
    "- answering meta-questions about the data\n"
   ]
  },
  {
   "cell_type": "code",
   "execution_count": 2,
   "id": "92e1ac19",
   "metadata": {},
   "outputs": [
    {
     "name": "stdout",
     "output_type": "stream",
     "text": [
      "\n",
      "\n",
      "\n",
      "SUCCESS: Global Search Response:\n",
      "# Top Themes in 'A Christmas Carol'\n",
      "\n",
      "Charles Dickens' 'A Christmas Carol' is rich with themes that resonate deeply with readers. The narrative explores various aspects of human experience, morality, and social responsibility. Below are the key themes identified in the story:\n",
      "\n",
      "## Redemption and Transformation\n",
      "\n",
      "The theme of redemption is central to the narrative, exemplified by Ebenezer Scrooge's transformation from a miserly individual to a compassionate benefactor. Scrooge's encounters with Jacob Marley and the three spirits compel him to reflect on his past and embrace generosity, highlighting the possibility of change and moral awakening [Data: Reports (0, 1, 19), (9, 3, 18, 23, 12, +more)]. This journey emphasizes the importance of self-reflection and the lessons learned about kindness and generosity.\n",
      "\n",
      "## The Christmas Spirit\n",
      "\n",
      "The significance of the Christmas spirit is a recurring theme, representing joy, generosity, and community. Scrooge's initial rejection of this spirit contrasts sharply with the warmth exhibited by characters like Fred and the Cratchit family. This contrast emphasizes that true happiness comes from caring for others and embracing the festive spirit [Data: Reports (0, 8, 19)]. The transformative power of Christmas serves as a backdrop for the narrative, symbolizing the essence of the holiday as a time for reflection, kindness, and connection with others [Data: Reports (32, 3, 9, 18, 22, +more)].\n",
      "\n",
      "## Family and Community\n",
      "\n",
      "Family and community connections are vital themes throughout the story. The Cratchit family's struggles and their Christmas celebrations illustrate the importance of familial bonds and the spirit of togetherness during the festive season. Their love and resilience amidst financial hardship emphasize how these relationships can foster joy and support [Data: Reports (2, 21, 22, 25, 34, +more), (8, 19, 20)]. Additionally, Fred's efforts to connect with Scrooge highlight the significance of community and the impact of social connections on individual well-being.\n",
      "\n",
      "## Consequences of Actions\n",
      "\n",
      "The consequences of one's actions are symbolized by the chains carried by the Ghost of Jacob Marley, representing the burdens of greed and past misdeeds. This theme reinforces the moral undertones of accountability and the repercussions of one's choices in life [Data: Reports (10)]. Scrooge's initial character serves as a cautionary tale about the impact of greed and selfishness, illustrating the moral lesson that one's actions affect not only oneself but also others [Data: Reports (0, 1, 19)].\n",
      "\n",
      "## Reflection and Memory\n",
      "\n",
      "The role of memory and reflection is significant in Scrooge's journey as he revisits his past through the spirits. This theme emphasizes the importance of understanding one's history and the lessons learned from it, which can lead to personal growth and transformation [Data: Reports (1, 0)]. The theme of lost love and regret is also explored through Scrooge's reflections on his past, particularly his relationship with Belle, underscoring the emotional cost of prioritizing wealth over personal connections [Data: Reports (18, 12, 9, 3, 23, +more)].\n",
      "\n",
      "## Conclusion\n",
      "\n",
      "In summary, 'A Christmas Carol' presents a tapestry of themes that explore redemption, the spirit of Christmas, the importance of family and community, the consequences of one's actions, and the significance of reflection and memory. These themes not only enrich the narrative but also offer valuable moral lessons that continue to resonate with readers today. The story serves as a reminder of the potential for change and the importance of compassion and connection in our lives.\n"
     ]
    }
   ],
   "source": [
    "!graphrag query --root ./ragtest2 --method global --query \"What are the top themes in this story?\""
   ]
  },
  {
   "cell_type": "markdown",
   "id": "22a8d968",
   "metadata": {},
   "source": [
    "### How to Create Retrieval-Augmented Generation (RAG) System\n",
    "- Chunking\n",
    "- Meta-data enrichment (titles, summaries, keywords)\n",
    "- Embedding\n",
    "- Indexing (Vector, Hybrid, Hierarchical)"
   ]
  },
  {
   "cell_type": "markdown",
   "id": "3ee6ffb7",
   "metadata": {},
   "source": [
    "### How does RAG Work\n",
    "- Prompt\n",
    "- Vector Embedding\n",
    "- Similarity (Cosine, Hybrid)\n",
    "- Prompt Augmentation"
   ]
  },
  {
   "cell_type": "markdown",
   "id": "12fb8aa1",
   "metadata": {},
   "source": [
    "### How to Create a GraphRAG System\n",
    "- Chunking\n",
    "- Entity Relationship Extraction\n",
    "- Knowledge Graph Construction: Nodes = Entities, Edges = Relationships\n",
    "- Embedding\n",
    "- Create Graph Hierarchy (Leiden Algorithm) - summaries for multiple levels of abstraction\n",
    "- Indexing"
   ]
  },
  {
   "cell_type": "markdown",
   "id": "fade0c13",
   "metadata": {},
   "source": [
    "### How does GraphRAG Work\n",
    "- Prompt\n",
    "- Vector Embedding\n",
    "- Community Selection using Similarity (Cosing,Hybrid)\n",
    "- Recursive Traversal\n",
    "- Map: partial answers are generated from each selected community\n",
    "- Reduce: partial answers are ranked into a final response"
   ]
  }
 ],
 "metadata": {
  "kernelspec": {
   "display_name": "Python 3",
   "language": "python",
   "name": "python3"
  },
  "language_info": {
   "codemirror_mode": {
    "name": "ipython",
    "version": 3
   },
   "file_extension": ".py",
   "mimetype": "text/x-python",
   "name": "python",
   "nbconvert_exporter": "python",
   "pygments_lexer": "ipython3",
   "version": "3.12.10"
  }
 },
 "nbformat": 4,
 "nbformat_minor": 5
}
